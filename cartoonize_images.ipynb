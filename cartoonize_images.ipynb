{
 "cells": [
  {
   "cell_type": "code",
   "execution_count": 176,
   "metadata": {
    "scrolled": false
   },
   "outputs": [],
   "source": [
    "import numpy as np\n",
    "import cv2 as cv\n",
    "import matplotlib.pyplot as plt\n",
    "from PIL import Image\n",
    "\n",
    "filename= r'C:\\Users\\Admin\\Desktop\\angelina-jolie-1280x720-wallpaper-7683.jpg'\n",
    "\n",
    "\n",
    "def filterr(image1):\n",
    "    #plt.subplot(231)\n",
    "    #plt.imshow(image1)\n",
    "    \n",
    "    blured = cv2.blur(image1,(3,3))  #blur image\n",
    "    \n",
    "    #plt.subplot(232)\n",
    "    #plt.imshow(blured)\n",
    "    \n",
    "    sigma=0.33\n",
    "    v = np.median(image1)\n",
    "    lower = int(max(0, (1.0 - sigma) * v))\n",
    "    upper = int(min(255, (1.0 + sigma) * v))\n",
    "    \n",
    "    image_with_edges = cv.Canny(image1 , lower, upper) #auto canny algorithm to find edges\n",
    "    \n",
    "    #plt.subplot(233)\n",
    "    #plt.imshow(image_with_edges, cmap='gray')\n",
    "    \n",
    "    kernel = np.ones((3,3),np.uint8)\n",
    "    closing = cv.morphologyEx(image_with_edges, cv.MORPH_CLOSE, kernel) #thickening and cleansing edges\n",
    "    \n",
    "    #plt.subplot(234)\n",
    "    #plt.imshow(closing, cmap='gray')\n",
    "    \n",
    "    close_neg = cv.bitwise_not(closing) #inverting color b2w & w2b\n",
    "    \n",
    "    #plt.subplot(235)\n",
    "    #plt.imshow(close_neg, cmap='gray')\n",
    "    \n",
    "    edged = cv.cvtColor(close_neg, cv.COLOR_GRAY2RGB) #converted gray image to rgb image\n",
    "    \n",
    "    dst = cv.bitwise_and(blured,edged) #add both blur and edged images\n",
    "    \n",
    "    PIL_image = Image.fromarray(np.uint8(dst)).convert('RGB')\n",
    "    PIL_image = Image.fromarray(dst.astype('uint8'), 'RGB')\n",
    "    PIL_image.show()\n",
    "    \n",
    "    \n",
    "    #plt.subplot(236)\n",
    "    #plt.imshow(dst)\n",
    "    \n",
    "    \n",
    "image = plt.imread(filename, 0)\n",
    "filterr(image)\n"
   ]
  },
  {
   "cell_type": "code",
   "execution_count": null,
   "metadata": {},
   "outputs": [],
   "source": []
  }
 ],
 "metadata": {
  "kernelspec": {
   "display_name": "Python 3",
   "language": "python",
   "name": "python3"
  }
 },
 "nbformat": 4,
 "nbformat_minor": 4
}
